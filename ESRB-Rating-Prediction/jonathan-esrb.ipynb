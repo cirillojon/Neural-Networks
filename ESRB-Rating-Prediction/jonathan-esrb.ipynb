{
 "cells": [
  {
   "cell_type": "code",
   "execution_count": 1,
   "id": "3c06eafa",
   "metadata": {
    "_cell_guid": "b1076dfc-b9ad-4769-8c92-a6c4dae69d19",
    "_uuid": "8f2839f25d086af736a60e9eeb907d3b93b6e0e5",
    "execution": {
     "iopub.execute_input": "2021-10-24T23:48:23.372564Z",
     "iopub.status.busy": "2021-10-24T23:48:23.371859Z",
     "iopub.status.idle": "2021-10-24T23:48:24.224977Z",
     "shell.execute_reply": "2021-10-24T23:48:24.223830Z",
     "shell.execute_reply.started": "2021-10-24T23:46:50.285577Z"
    },
    "papermill": {
     "duration": 0.887767,
     "end_time": "2021-10-24T23:48:24.225212",
     "exception": false,
     "start_time": "2021-10-24T23:48:23.337445",
     "status": "completed"
    },
    "tags": []
   },
   "outputs": [
    {
     "name": "stdout",
     "output_type": "stream",
     "text": [
      "/kaggle/input/cap-4611-2021-fall-assignment-02/sample_submission.csv\n",
      "/kaggle/input/cap-4611-2021-fall-assignment-02/eval.csv\n",
      "/kaggle/input/cap-4611-2021-fall-assignment-02/train.csv\n"
     ]
    }
   ],
   "source": [
    "# This Python 3 environment comes with many helpful analytics libraries installed\n",
    "# It is defined by the kaggle/python Docker image: https://github.com/kaggle/docker-python\n",
    "# For example, here's several helpful packages to load\n",
    "\n",
    "import numpy as np # linear algebra\n",
    "import pandas as pd # data processing, CSV file I/O (e.g. pd.read_csv)\n",
    "import seaborn as sns\n",
    "import matplotlib.pyplot as plt\n",
    "# Input data files are available in the read-only \"../input/\" directory\n",
    "# For example, running this (by clicking run or pressing Shift+Enter) will list all files under the input directory\n",
    "\n",
    "import os\n",
    "for dirname, _, filenames in os.walk('/kaggle/input'):\n",
    "    for filename in filenames:\n",
    "        print(os.path.join(dirname, filename))\n",
    "\n",
    "# You can write up to 20GB to the current directory (/kaggle/working/) that gets preserved as output when you create a version using \"Save & Run All\" \n",
    "# You can also write temporary files to /kaggle/temp/, but they won't be saved outside of the current session"
   ]
  },
  {
   "cell_type": "markdown",
   "id": "5fc0e936",
   "metadata": {
    "papermill": {
     "duration": 0.015486,
     "end_time": "2021-10-24T23:48:24.258595",
     "exception": false,
     "start_time": "2021-10-24T23:48:24.243109",
     "status": "completed"
    },
    "tags": []
   },
   "source": [
    "**LOADING DATA AND EXAMINING SHAPE**"
   ]
  },
  {
   "cell_type": "code",
   "execution_count": 2,
   "id": "c874149d",
   "metadata": {
    "execution": {
     "iopub.execute_input": "2021-10-24T23:48:24.295207Z",
     "iopub.status.busy": "2021-10-24T23:48:24.292873Z",
     "iopub.status.idle": "2021-10-24T23:48:24.353158Z",
     "shell.execute_reply": "2021-10-24T23:48:24.352265Z",
     "shell.execute_reply.started": "2021-10-24T23:46:50.301583Z"
    },
    "papermill": {
     "duration": 0.078726,
     "end_time": "2021-10-24T23:48:24.353330",
     "exception": false,
     "start_time": "2021-10-24T23:48:24.274604",
     "status": "completed"
    },
    "tags": []
   },
   "outputs": [
    {
     "data": {
      "text/html": [
       "<div>\n",
       "<style scoped>\n",
       "    .dataframe tbody tr th:only-of-type {\n",
       "        vertical-align: middle;\n",
       "    }\n",
       "\n",
       "    .dataframe tbody tr th {\n",
       "        vertical-align: top;\n",
       "    }\n",
       "\n",
       "    .dataframe thead th {\n",
       "        text-align: right;\n",
       "    }\n",
       "</style>\n",
       "<table border=\"1\" class=\"dataframe\">\n",
       "  <thead>\n",
       "    <tr style=\"text-align: right;\">\n",
       "      <th></th>\n",
       "      <th>id</th>\n",
       "      <th>title</th>\n",
       "      <th>console</th>\n",
       "      <th>alcohol_reference</th>\n",
       "      <th>animated_blood</th>\n",
       "      <th>blood</th>\n",
       "      <th>blood_and_gore</th>\n",
       "      <th>cartoon_violence</th>\n",
       "      <th>crude_humor</th>\n",
       "      <th>drug_reference</th>\n",
       "      <th>...</th>\n",
       "      <th>sexual_content</th>\n",
       "      <th>sexual_themes</th>\n",
       "      <th>simulated_gambling</th>\n",
       "      <th>strong_janguage</th>\n",
       "      <th>strong_sexual_content</th>\n",
       "      <th>suggestive_themes</th>\n",
       "      <th>use_of_alcohol</th>\n",
       "      <th>use_of_drugs_and_alcohol</th>\n",
       "      <th>violence</th>\n",
       "      <th>esrb_rating</th>\n",
       "    </tr>\n",
       "  </thead>\n",
       "  <tbody>\n",
       "    <tr>\n",
       "      <th>0</th>\n",
       "      <td>474</td>\n",
       "      <td>Road to Ballhalla</td>\n",
       "      <td>1</td>\n",
       "      <td>0</td>\n",
       "      <td>0</td>\n",
       "      <td>0</td>\n",
       "      <td>0</td>\n",
       "      <td>0</td>\n",
       "      <td>0</td>\n",
       "      <td>0</td>\n",
       "      <td>...</td>\n",
       "      <td>0</td>\n",
       "      <td>0</td>\n",
       "      <td>0</td>\n",
       "      <td>0</td>\n",
       "      <td>0</td>\n",
       "      <td>0</td>\n",
       "      <td>0</td>\n",
       "      <td>0</td>\n",
       "      <td>0</td>\n",
       "      <td>E</td>\n",
       "    </tr>\n",
       "    <tr>\n",
       "      <th>1</th>\n",
       "      <td>475</td>\n",
       "      <td>RollerCoaster Legends II: Thor's Hammer</td>\n",
       "      <td>0</td>\n",
       "      <td>0</td>\n",
       "      <td>0</td>\n",
       "      <td>0</td>\n",
       "      <td>0</td>\n",
       "      <td>0</td>\n",
       "      <td>0</td>\n",
       "      <td>0</td>\n",
       "      <td>...</td>\n",
       "      <td>0</td>\n",
       "      <td>0</td>\n",
       "      <td>0</td>\n",
       "      <td>0</td>\n",
       "      <td>0</td>\n",
       "      <td>0</td>\n",
       "      <td>0</td>\n",
       "      <td>0</td>\n",
       "      <td>0</td>\n",
       "      <td>ET</td>\n",
       "    </tr>\n",
       "    <tr>\n",
       "      <th>2</th>\n",
       "      <td>476</td>\n",
       "      <td>Island Time</td>\n",
       "      <td>0</td>\n",
       "      <td>0</td>\n",
       "      <td>0</td>\n",
       "      <td>0</td>\n",
       "      <td>0</td>\n",
       "      <td>0</td>\n",
       "      <td>0</td>\n",
       "      <td>0</td>\n",
       "      <td>...</td>\n",
       "      <td>0</td>\n",
       "      <td>0</td>\n",
       "      <td>0</td>\n",
       "      <td>0</td>\n",
       "      <td>0</td>\n",
       "      <td>0</td>\n",
       "      <td>0</td>\n",
       "      <td>0</td>\n",
       "      <td>0</td>\n",
       "      <td>ET</td>\n",
       "    </tr>\n",
       "    <tr>\n",
       "      <th>3</th>\n",
       "      <td>477</td>\n",
       "      <td>Bridge Constructor Portal</td>\n",
       "      <td>1</td>\n",
       "      <td>0</td>\n",
       "      <td>0</td>\n",
       "      <td>0</td>\n",
       "      <td>0</td>\n",
       "      <td>0</td>\n",
       "      <td>0</td>\n",
       "      <td>0</td>\n",
       "      <td>...</td>\n",
       "      <td>0</td>\n",
       "      <td>0</td>\n",
       "      <td>0</td>\n",
       "      <td>0</td>\n",
       "      <td>0</td>\n",
       "      <td>0</td>\n",
       "      <td>0</td>\n",
       "      <td>0</td>\n",
       "      <td>0</td>\n",
       "      <td>ET</td>\n",
       "    </tr>\n",
       "    <tr>\n",
       "      <th>4</th>\n",
       "      <td>478</td>\n",
       "      <td>Secret of Mana</td>\n",
       "      <td>0</td>\n",
       "      <td>0</td>\n",
       "      <td>0</td>\n",
       "      <td>0</td>\n",
       "      <td>0</td>\n",
       "      <td>0</td>\n",
       "      <td>0</td>\n",
       "      <td>0</td>\n",
       "      <td>...</td>\n",
       "      <td>0</td>\n",
       "      <td>0</td>\n",
       "      <td>0</td>\n",
       "      <td>0</td>\n",
       "      <td>0</td>\n",
       "      <td>0</td>\n",
       "      <td>0</td>\n",
       "      <td>0</td>\n",
       "      <td>0</td>\n",
       "      <td>ET</td>\n",
       "    </tr>\n",
       "  </tbody>\n",
       "</table>\n",
       "<p>5 rows × 35 columns</p>\n",
       "</div>"
      ],
      "text/plain": [
       "    id                                    title  console  alcohol_reference  \\\n",
       "0  474                        Road to Ballhalla        1                  0   \n",
       "1  475  RollerCoaster Legends II: Thor's Hammer        0                  0   \n",
       "2  476                              Island Time        0                  0   \n",
       "3  477                Bridge Constructor Portal        1                  0   \n",
       "4  478                           Secret of Mana        0                  0   \n",
       "\n",
       "   animated_blood  blood  blood_and_gore  cartoon_violence  crude_humor  \\\n",
       "0               0      0               0                 0            0   \n",
       "1               0      0               0                 0            0   \n",
       "2               0      0               0                 0            0   \n",
       "3               0      0               0                 0            0   \n",
       "4               0      0               0                 0            0   \n",
       "\n",
       "   drug_reference  ...  sexual_content  sexual_themes  simulated_gambling  \\\n",
       "0               0  ...               0              0                   0   \n",
       "1               0  ...               0              0                   0   \n",
       "2               0  ...               0              0                   0   \n",
       "3               0  ...               0              0                   0   \n",
       "4               0  ...               0              0                   0   \n",
       "\n",
       "   strong_janguage  strong_sexual_content  suggestive_themes  use_of_alcohol  \\\n",
       "0                0                      0                  0               0   \n",
       "1                0                      0                  0               0   \n",
       "2                0                      0                  0               0   \n",
       "3                0                      0                  0               0   \n",
       "4                0                      0                  0               0   \n",
       "\n",
       "   use_of_drugs_and_alcohol  violence  esrb_rating  \n",
       "0                         0         0            E  \n",
       "1                         0         0           ET  \n",
       "2                         0         0           ET  \n",
       "3                         0         0           ET  \n",
       "4                         0         0           ET  \n",
       "\n",
       "[5 rows x 35 columns]"
      ]
     },
     "execution_count": 2,
     "metadata": {},
     "output_type": "execute_result"
    }
   ],
   "source": [
    "train_df = pd.read_csv(\"/kaggle/input/cap-4611-2021-fall-assignment-02/train.csv\")\n",
    "test_df = pd.read_csv(\"/kaggle/input/cap-4611-2021-fall-assignment-02/eval.csv\")\n",
    "\n",
    "train_df.head()\n"
   ]
  },
  {
   "cell_type": "markdown",
   "id": "9eafa5e6",
   "metadata": {
    "papermill": {
     "duration": 0.015023,
     "end_time": "2021-10-24T23:48:24.387325",
     "exception": false,
     "start_time": "2021-10-24T23:48:24.372302",
     "status": "completed"
    },
    "tags": []
   },
   "source": [
    "**CHECKING FOR MISSING VALUES**"
   ]
  },
  {
   "cell_type": "code",
   "execution_count": 3,
   "id": "3c84c2da",
   "metadata": {
    "execution": {
     "iopub.execute_input": "2021-10-24T23:48:24.431482Z",
     "iopub.status.busy": "2021-10-24T23:48:24.430716Z",
     "iopub.status.idle": "2021-10-24T23:48:24.437191Z",
     "shell.execute_reply": "2021-10-24T23:48:24.437732Z",
     "shell.execute_reply.started": "2021-10-24T23:46:50.342790Z"
    },
    "papermill": {
     "duration": 0.035299,
     "end_time": "2021-10-24T23:48:24.437931",
     "exception": false,
     "start_time": "2021-10-24T23:48:24.402632",
     "status": "completed"
    },
    "tags": []
   },
   "outputs": [
    {
     "name": "stdout",
     "output_type": "stream",
     "text": [
      "violence False\n",
      "id                          0\n",
      "title                       0\n",
      "console                     0\n",
      "alcohol_reference           0\n",
      "animated_blood              0\n",
      "blood                       0\n",
      "blood_and_gore              0\n",
      "cartoon_violence            0\n",
      "crude_humor                 0\n",
      "drug_reference              0\n",
      "fantasy_violence            0\n",
      "intense_violence            0\n",
      "language                    0\n",
      "lyrics                      0\n",
      "mature_humor                0\n",
      "mild_blood                  0\n",
      "mild_cartoon_violence       0\n",
      "mild_fantasy_violence       0\n",
      "mild_language               0\n",
      "mild_lyrics                 0\n",
      "mild_suggestive_themes      0\n",
      "mild_violence               0\n",
      "no_descriptors              0\n",
      "nudity                      0\n",
      "partial_nudity              0\n",
      "sexual_content              0\n",
      "sexual_themes               0\n",
      "simulated_gambling          0\n",
      "strong_janguage             0\n",
      "strong_sexual_content       0\n",
      "suggestive_themes           0\n",
      "use_of_alcohol              0\n",
      "use_of_drugs_and_alcohol    0\n",
      "violence                    0\n",
      "esrb_rating                 0\n",
      "dtype: int64\n"
     ]
    }
   ],
   "source": [
    "\n",
    "for column in test_df: check_nan = test_df[column].isnull().values.any()\n",
    "print(column, check_nan)\n",
    "print(train_df.isnull().sum())"
   ]
  },
  {
   "cell_type": "markdown",
   "id": "c868baba",
   "metadata": {
    "papermill": {
     "duration": 0.015409,
     "end_time": "2021-10-24T23:48:24.469116",
     "exception": false,
     "start_time": "2021-10-24T23:48:24.453707",
     "status": "completed"
    },
    "tags": []
   },
   "source": [
    "**CONDUCTING EPA TO EXAMINE THE DATA AND DETERMINE OUTLIERS**"
   ]
  },
  {
   "cell_type": "code",
   "execution_count": 4,
   "id": "8b1ee77d",
   "metadata": {
    "execution": {
     "iopub.execute_input": "2021-10-24T23:48:24.504605Z",
     "iopub.status.busy": "2021-10-24T23:48:24.503860Z",
     "iopub.status.idle": "2021-10-24T23:48:46.911158Z",
     "shell.execute_reply": "2021-10-24T23:48:46.911680Z",
     "shell.execute_reply.started": "2021-10-24T23:46:50.359664Z"
    },
    "papermill": {
     "duration": 22.427061,
     "end_time": "2021-10-24T23:48:46.911861",
     "exception": false,
     "start_time": "2021-10-24T23:48:24.484800",
     "status": "completed"
    },
    "tags": []
   },
   "outputs": [
    {
     "name": "stderr",
     "output_type": "stream",
     "text": [
      "/opt/conda/lib/python3.7/site-packages/seaborn/axisgrid.py:409: RuntimeWarning: More than 20 figures have been opened. Figures created through the pyplot interface (`matplotlib.pyplot.figure`) are retained until explicitly closed and may consume too much memory. (To control this warning, see the rcParam `figure.max_open_warning`).\n",
      "  fig = plt.figure(figsize=figsize)\n"
     ]
    },
    {
     "data": {
      "text/plain": [
       "<seaborn.axisgrid.FacetGrid at 0x7f044a066290>"
      ]
     },
     "execution_count": 4,
     "metadata": {},
     "output_type": "execute_result"
    },
    {
     "data": {
      "image/png": "[encoded data removed]",
      "text/plain": [
       "<Figure size 864x216 with 4 Axes>"
      ]
     },
     "metadata": {
      "needs_background": "light"
     },
     "output_type": "display_data"
    },
    {
     "data": {
      "image/png": "[encoded data removed]",
      "text/plain": [
       "<Figure size 864x216 with 4 Axes>"
      ]
     },
     "metadata": {
      "needs_background": "light"
     },
     "output_type": "display_data"
    },
    {
     "data": {
      "image/png": "[encoded data removed]",
      "text/plain": [
       "<Figure size 864x216 with 4 Axes>"
      ]
     },
     "metadata": {
      "needs_background": "light"
     },
     "output_type": "display_data"
    },
    {
     "data": {
      "image/png": "[encoded data removed]",
      "text/plain": [
       "<Figure size 864x216 with 4 Axes>"
      ]
     },
     "metadata": {
      "needs_background": "light"
     },
     "output_type": "display_data"
    },
    {
     "data": {
      "image/png": "[encoded data removed]",
      "text/plain": [
       "<Figure size 864x216 with 4 Axes>"
      ]
     },
     "metadata": {
      "needs_background": "light"
     },
     "output_type": "display_data"
    },
    {
     "data": {
      "image/png": "[encoded data removed]",
      "text/plain": [
       "<Figure size 864x216 with 4 Axes>"
      ]
     },
     "metadata": {
      "needs_background": "light"
     },
     "output_type": "display_data"
    },
    {
     "data": {
      "image/png": "[encoded data removed]",
      "text/plain": [
       "<Figure size 864x216 with 4 Axes>"
      ]
     },
     "metadata": {
      "needs_background": "light"
     },
     "output_type": "display_data"
    },
    {
     "data": {
      "image/png": "[encoded data removed]",
      "text/plain": [
       "<Figure size 864x216 with 4 Axes>"
      ]
     },
     "metadata": {
      "needs_background": "light"
     },
     "output_type": "display_data"
    },
    {
     "data": {
      "image/png": "[encoded data removed]",
      "text/plain": [
       "<Figure size 864x216 with 4 Axes>"
      ]
     },
     "metadata": {
      "needs_background": "light"
     },
     "output_type": "display_data"
    },
    {
     "data": {
      "image/png": "[encoded data removed]",
      "text/plain": [
       "<Figure size 864x216 with 4 Axes>"
      ]
     },
     "metadata": {
      "needs_background": "light"
     },
     "output_type": "display_data"
    },
    {
     "data": {
      "image/png": "[encoded data removed]",
      "text/plain": [
       "<Figure size 864x216 with 4 Axes>"
      ]
     },
     "metadata": {
      "needs_background": "light"
     },
     "output_type": "display_data"
    },
    {
     "data": {
      "image/png": "[encoded data removed]",
      "text/plain": [
       "<Figure size 864x216 with 4 Axes>"
      ]
     },
     "metadata": {
      "needs_background": "light"
     },
     "output_type": "display_data"
    },
    {
     "data": {
      "image/png": "[encoded data removed]",
      "text/plain": [
       "<Figure size 864x216 with 4 Axes>"
      ]
     },
     "metadata": {
      "needs_background": "light"
     },
     "output_type": "display_data"
    },
    {
     "data": {
      "image/png": "[encoded data removed]",
      "text/plain": [
       "<Figure size 864x216 with 4 Axes>"
      ]
     },
     "metadata": {
      "needs_background": "light"
     },
     "output_type": "display_data"
    },
    {
     "data": {
      "image/png": "[encoded data removed]",
      "text/plain": [
       "<Figure size 864x216 with 4 Axes>"
      ]
     },
     "metadata": {
      "needs_background": "light"
     },
     "output_type": "display_data"
    },
    {
     "data": {
      "image/png": "[encoded data removed]",
      "text/plain": [
       "<Figure size 864x216 with 4 Axes>"
      ]
     },
     "metadata": {
      "needs_background": "light"
     },
     "output_type": "display_data"
    },
    {
     "data": {
      "image/png": "[encoded data removed]",
      "text/plain": [
       "<Figure size 864x216 with 4 Axes>"
      ]
     },
     "metadata": {
      "needs_background": "light"
     },
     "output_type": "display_data"
    },
    {
     "data": {
      "image/png": "[encoded data removed]",
      "text/plain": [
       "<Figure size 864x216 with 4 Axes>"
      ]
     },
     "metadata": {
      "needs_background": "light"
     },
     "output_type": "display_data"
    },
    {
     "data": {
      "image/png": "[encoded data removed]",
      "text/plain": [
       "<Figure size 864x216 with 4 Axes>"
      ]
     },
     "metadata": {
      "needs_background": "light"
     },
     "output_type": "display_data"
    },
    {
     "data": {
      "image/png": "[encoded data removed]",
      "text/plain": [
       "<Figure size 864x216 with 4 Axes>"
      ]
     },
     "metadata": {
      "needs_background": "light"
     },
     "output_type": "display_data"
    },
    {
     "data": {
      "image/png": "[encoded data removed]",
      "text/plain": [
       "<Figure size 864x216 with 4 Axes>"
      ]
     },
     "metadata": {
      "needs_background": "light"
     },
     "output_type": "display_data"
    },
    {
     "data": {
      "image/png": "[encoded data removed]",
      "text/plain": [
       "<Figure size 864x216 with 4 Axes>"
      ]
     },
     "metadata": {
      "needs_background": "light"
     },
     "output_type": "display_data"
    },
    {
     "data": {
      "image/png": "[encoded data removed]",
      "text/plain": [
       "<Figure size 864x216 with 4 Axes>"
      ]
     },
     "metadata": {
      "needs_background": "light"
     },
     "output_type": "display_data"
    },
    {
     "data": {
      "image/png": "[encoded data removed]",
      "text/plain": [
       "<Figure size 864x216 with 4 Axes>"
      ]
     },
     "metadata": {
      "needs_background": "light"
     },
     "output_type": "display_data"
    },
    {
     "data": {
      "image/png": "[encoded data removed]",
      "text/plain": [
       "<Figure size 864x216 with 4 Axes>"
      ]
     },
     "metadata": {
      "needs_background": "light"
     },
     "output_type": "display_data"
    },
    {
     "data": {
      "image/png": "[encoded data removed]",
      "text/plain": [
       "<Figure size 864x216 with 4 Axes>"
      ]
     },
     "metadata": {
      "needs_background": "light"
     },
     "output_type": "display_data"
    },
    {
     "data": {
      "image/png": "[encoded data removed]",
      "text/plain": [
       "<Figure size 864x216 with 4 Axes>"
      ]
     },
     "metadata": {
      "needs_background": "light"
     },
     "output_type": "display_data"
    },
    {
     "data": {
      "image/png": "[encoded data removed]",
      "text/plain": [
       "<Figure size 864x216 with 4 Axes>"
      ]
     },
     "metadata": {
      "needs_background": "light"
     },
     "output_type": "display_data"
    },
    {
     "data": {
      "image/png": "[encoded data removed]",
      "text/plain": [
       "<Figure size 864x216 with 4 Axes>"
      ]
     },
     "metadata": {
      "needs_background": "light"
     },
     "output_type": "display_data"
    },
    {
     "data": {
      "image/png": "[encoded data removed]",
      "text/plain": [
       "<Figure size 864x216 with 4 Axes>"
      ]
     },
     "metadata": {
      "needs_background": "light"
     },
     "output_type": "display_data"
    }
   ],
   "source": [
    "pclass_hist = sns.FacetGrid(train_df, col='esrb_rating')\n",
    "pclass_hist.map(plt.hist, \"animated_blood\", bins=4)\n",
    "pclass_hist = sns.FacetGrid(train_df, col='esrb_rating')\n",
    "pclass_hist.map(plt.hist, \"blood\", bins=4)\n",
    "pclass_hist = sns.FacetGrid(train_df, col='esrb_rating')\n",
    "pclass_hist.map(plt.hist, \"blood_and_gore\", bins=3)\n",
    "pclass_hist = sns.FacetGrid(train_df, col='esrb_rating')\n",
    "pclass_hist.map(plt.hist, \"cartoon_violence\", bins=4)\n",
    "pclass_hist = sns.FacetGrid(train_df, col='esrb_rating')\n",
    "pclass_hist.map(plt.hist, \"crude_humor\", bins=4)\n",
    "pclass_hist = sns.FacetGrid(train_df, col='esrb_rating')\n",
    "pclass_hist.map(plt.hist, \"drug_reference\", bins=4)\n",
    "pclass_hist = sns.FacetGrid(train_df, col='esrb_rating')\n",
    "pclass_hist.map(plt.hist, \"fantasy_violence\", bins=4)\n",
    "pclass_hist = sns.FacetGrid(train_df, col='esrb_rating')\n",
    "pclass_hist.map(plt.hist, \"intense_violence\", bins=4)\n",
    "pclass_hist = sns.FacetGrid(train_df, col='esrb_rating')\n",
    "pclass_hist.map(plt.hist, \"language\", bins=4)\n",
    "pclass_hist = sns.FacetGrid(train_df, col='esrb_rating')\n",
    "pclass_hist.map(plt.hist, \"lyrics\", bins=4)\n",
    "pclass_hist = sns.FacetGrid(train_df, col='esrb_rating')\n",
    "pclass_hist.map(plt.hist, \"mature_humor\", bins=4)\n",
    "pclass_hist = sns.FacetGrid(train_df, col='esrb_rating')\n",
    "pclass_hist.map(plt.hist, \"mild_blood\", bins=4)\n",
    "pclass_hist = sns.FacetGrid(train_df, col='esrb_rating')\n",
    "pclass_hist.map(plt.hist, \"mild_cartoon_violence\", bins=4)\n",
    "pclass_hist = sns.FacetGrid(train_df, col='esrb_rating')\n",
    "pclass_hist.map(plt.hist, \"mild_fantasy_violence\", bins=4)\n",
    "pclass_hist = sns.FacetGrid(train_df, col='esrb_rating')\n",
    "pclass_hist.map(plt.hist, \"mild_language\", bins=3)\n",
    "pclass_hist = sns.FacetGrid(train_df, col='esrb_rating')\n",
    "pclass_hist.map(plt.hist, \"mild_lyrics\", bins=4)\n",
    "pclass_hist = sns.FacetGrid(train_df, col='esrb_rating')\n",
    "pclass_hist.map(plt.hist, \"mild_suggestive_themes\", bins=4)\n",
    "pclass_hist = sns.FacetGrid(train_df, col='esrb_rating')\n",
    "pclass_hist.map(plt.hist, \"mild_violence\", bins=4)\n",
    "pclass_hist = sns.FacetGrid(train_df, col='esrb_rating')\n",
    "pclass_hist.map(plt.hist, \"no_descriptors\", bins=4)\n",
    "pclass_hist = sns.FacetGrid(train_df, col='esrb_rating')\n",
    "pclass_hist.map(plt.hist, \"nudity\", bins=4)\n",
    "pclass_hist = sns.FacetGrid(train_df, col='esrb_rating')\n",
    "pclass_hist.map(plt.hist, \"partial_nudity\", bins=4)\n",
    "pclass_hist = sns.FacetGrid(train_df, col='esrb_rating')\n",
    "pclass_hist.map(plt.hist, \"sexual_content\", bins=4)\n",
    "pclass_hist = sns.FacetGrid(train_df, col='esrb_rating')\n",
    "pclass_hist.map(plt.hist, \"sexual_themes\", bins=4)\n",
    "pclass_hist = sns.FacetGrid(train_df, col='esrb_rating')\n",
    "pclass_hist.map(plt.hist, \"simulated_gambling\", bins=4)\n",
    "pclass_hist.map(plt.hist, \"mild_lyrics\", bins=4)\n",
    "pclass_hist = sns.FacetGrid(train_df, col='esrb_rating')\n",
    "pclass_hist.map(plt.hist, \"strong_janguage\", bins=4)\n",
    "pclass_hist = sns.FacetGrid(train_df, col='esrb_rating')\n",
    "pclass_hist.map(plt.hist, \"strong_sexual_content\", bins=4)\n",
    "pclass_hist = sns.FacetGrid(train_df, col='esrb_rating')\n",
    "pclass_hist.map(plt.hist, \"suggestive_themes\", bins=4)\n",
    "pclass_hist = sns.FacetGrid(train_df, col='esrb_rating')\n",
    "pclass_hist.map(plt.hist, \"use_of_alcohol\", bins=4)\n",
    "pclass_hist = sns.FacetGrid(train_df, col='esrb_rating')\n",
    "pclass_hist.map(plt.hist, \"use_of_drugs_and_alcohol\", bins=4)\n",
    "pclass_hist = sns.FacetGrid(train_df, col='esrb_rating')\n",
    "pclass_hist.map(plt.hist, \"violence\", bins=4)"
   ]
  },
  {
   "cell_type": "markdown",
   "id": "fe7ba81c",
   "metadata": {
    "papermill": {
     "duration": 0.036436,
     "end_time": "2021-10-24T23:48:46.985305",
     "exception": false,
     "start_time": "2021-10-24T23:48:46.948869",
     "status": "completed"
    },
    "tags": []
   },
   "source": [
    "Here we are able to determine which categories are most relevant in determining a games esrb rating"
   ]
  },
  {
   "cell_type": "markdown",
   "id": "8ce3d700",
   "metadata": {
    "papermill": {
     "duration": 0.03637,
     "end_time": "2021-10-24T23:48:47.058443",
     "exception": false,
     "start_time": "2021-10-24T23:48:47.022073",
     "status": "completed"
    },
    "tags": []
   },
   "source": [
    "**DECISION TREE MODEL**"
   ]
  },
  {
   "cell_type": "code",
   "execution_count": 5,
   "id": "cdd57c4d",
   "metadata": {
    "execution": {
     "iopub.execute_input": "2021-10-24T23:48:47.161687Z",
     "iopub.status.busy": "2021-10-24T23:48:47.154819Z",
     "iopub.status.idle": "2021-10-24T23:48:47.491491Z",
     "shell.execute_reply": "2021-10-24T23:48:47.490933Z",
     "shell.execute_reply.started": "2021-10-24T23:47:15.520164Z"
    },
    "papermill": {
     "duration": 0.395352,
     "end_time": "2021-10-24T23:48:47.491633",
     "exception": false,
     "start_time": "2021-10-24T23:48:47.096281",
     "status": "completed"
    },
    "tags": []
   },
   "outputs": [
    {
     "name": "stdout",
     "output_type": "stream",
     "text": [
      "Decision Tree Model Score: 0.9148486980999296\n"
     ]
    }
   ],
   "source": [
    "from sklearn.tree import DecisionTreeClassifier\n",
    "y = train_df[\"esrb_rating\"]\n",
    "features = [\n",
    "\"animated_blood\",              \n",
    "\"blood\",                       \n",
    "\"blood_and_gore\",              \n",
    "\"cartoon_violence\",            \n",
    "\"crude_humor\",                 \n",
    "\"drug_reference\",              \n",
    "\"fantasy_violence\",            \n",
    "\"intense_violence\",            \n",
    "\"language\",                    \n",
    "\"lyrics\",                      \n",
    "\"mature_humor\",                \n",
    "\"mild_blood\",                 \n",
    "\"mild_cartoon_violence\",       \n",
    "\"mild_fantasy_violence\",       \n",
    "\"mild_language\",               \n",
    "\"mild_lyrics\",                 \n",
    "\"mild_suggestive_themes\",      \n",
    "\"mild_violence\",               \n",
    "\"no_descriptors\",             \n",
    "\"nudity\",                      \n",
    "\"partial_nudity\",             \n",
    "\"sexual_content\",            \n",
    "\"sexual_themes\",            \n",
    "\"simulated_gambling\",         \n",
    "\"strong_janguage\",             \n",
    "\"strong_sexual_content\",       \n",
    "\"suggestive_themes\",         \n",
    "\"use_of_alcohol\",             \n",
    "\"use_of_drugs_and_alcohol\",    \n",
    "\"violence\"]\n",
    "X = pd.get_dummies(train_df[features])\n",
    "X_test = pd.get_dummies(test_df[features])\n",
    "decision_tree = DecisionTreeClassifier() \n",
    "decision_tree.fit(X, y)  \n",
    "dt_pred = decision_tree.predict(X_test)  \n",
    "decision_tree_score = (decision_tree.score(X, y))\n",
    "print(\"Decision Tree Model Score: \" + str(decision_tree_score))"
   ]
  },
  {
   "cell_type": "code",
   "execution_count": 6,
   "id": "426b0c8f",
   "metadata": {
    "execution": {
     "iopub.execute_input": "2021-10-24T23:48:47.568264Z",
     "iopub.status.busy": "2021-10-24T23:48:47.567591Z",
     "iopub.status.idle": "2021-10-24T23:48:47.641705Z",
     "shell.execute_reply": "2021-10-24T23:48:47.642287Z",
     "shell.execute_reply.started": "2021-10-24T23:47:15.551295Z"
    },
    "papermill": {
     "duration": 0.114202,
     "end_time": "2021-10-24T23:48:47.642473",
     "exception": false,
     "start_time": "2021-10-24T23:48:47.528271",
     "status": "completed"
    },
    "tags": []
   },
   "outputs": [
    {
     "name": "stdout",
     "output_type": "stream",
     "text": [
      "       animated_blood        blood  blood_and_gore  cartoon_violence  \\\n",
      "count     1421.000000  1421.000000     1421.000000       1421.000000   \n",
      "mean         0.009852     0.219564        0.132301          0.019001   \n",
      "std          0.098803     0.414097        0.338937          0.136575   \n",
      "min          0.000000     0.000000        0.000000          0.000000   \n",
      "25%          0.000000     0.000000        0.000000          0.000000   \n",
      "50%          0.000000     0.000000        0.000000          0.000000   \n",
      "75%          0.000000     0.000000        0.000000          0.000000   \n",
      "max          1.000000     1.000000        1.000000          1.000000   \n",
      "\n",
      "       crude_humor  drug_reference  fantasy_violence  intense_violence  \\\n",
      "count  1421.000000     1421.000000       1421.000000       1421.000000   \n",
      "mean      0.056298        0.034483          0.235749          0.123856   \n",
      "std       0.230578        0.182530          0.424616          0.329534   \n",
      "min       0.000000        0.000000          0.000000          0.000000   \n",
      "25%       0.000000        0.000000          0.000000          0.000000   \n",
      "50%       0.000000        0.000000          0.000000          0.000000   \n",
      "75%       0.000000        0.000000          0.000000          0.000000   \n",
      "max       1.000000        1.000000          1.000000          1.000000   \n",
      "\n",
      "          language       lyrics  ...  partial_nudity  sexual_content  \\\n",
      "count  1421.000000  1421.000000  ...     1421.000000     1421.000000   \n",
      "mean      0.109782     0.028149  ...        0.014075        0.028149   \n",
      "std       0.312728     0.165457  ...        0.117840        0.165457   \n",
      "min       0.000000     0.000000  ...        0.000000        0.000000   \n",
      "25%       0.000000     0.000000  ...        0.000000        0.000000   \n",
      "50%       0.000000     0.000000  ...        0.000000        0.000000   \n",
      "75%       0.000000     0.000000  ...        0.000000        0.000000   \n",
      "max       1.000000     1.000000  ...        1.000000        1.000000   \n",
      "\n",
      "       sexual_themes  simulated_gambling  strong_janguage  \\\n",
      "count    1421.000000         1421.000000      1421.000000   \n",
      "mean        0.055595            0.065447         0.116819   \n",
      "std         0.229218            0.247400         0.321318   \n",
      "min         0.000000            0.000000         0.000000   \n",
      "25%         0.000000            0.000000         0.000000   \n",
      "50%         0.000000            0.000000         0.000000   \n",
      "75%         0.000000            0.000000         0.000000   \n",
      "max         1.000000            1.000000         1.000000   \n",
      "\n",
      "       strong_sexual_content  suggestive_themes  use_of_alcohol  \\\n",
      "count             1421.00000        1421.000000     1421.000000   \n",
      "mean                 0.04152           0.111189        0.016890   \n",
      "std                  0.19956           0.314477        0.128903   \n",
      "min                  0.00000           0.000000        0.000000   \n",
      "25%                  0.00000           0.000000        0.000000   \n",
      "50%                  0.00000           0.000000        0.000000   \n",
      "75%                  0.00000           0.000000        0.000000   \n",
      "max                  1.00000           1.000000        1.000000   \n",
      "\n",
      "       use_of_drugs_and_alcohol     violence  \n",
      "count               1421.000000  1421.000000  \n",
      "mean                   0.016186     0.061928  \n",
      "std                    0.126234     0.241110  \n",
      "min                    0.000000     0.000000  \n",
      "25%                    0.000000     0.000000  \n",
      "50%                    0.000000     0.000000  \n",
      "75%                    0.000000     0.000000  \n",
      "max                    1.000000     1.000000  \n",
      "\n",
      "[8 rows x 30 columns]\n"
     ]
    }
   ],
   "source": [
    "print(X.describe())"
   ]
  },
  {
   "cell_type": "markdown",
   "id": "bc900b6d",
   "metadata": {
    "papermill": {
     "duration": 0.037192,
     "end_time": "2021-10-24T23:48:47.716814",
     "exception": false,
     "start_time": "2021-10-24T23:48:47.679622",
     "status": "completed"
    },
    "tags": []
   },
   "source": [
    "**RANDOM FOREST MODEL**"
   ]
  },
  {
   "cell_type": "code",
   "execution_count": 7,
   "id": "1406aa45",
   "metadata": {
    "execution": {
     "iopub.execute_input": "2021-10-24T23:48:47.800953Z",
     "iopub.status.busy": "2021-10-24T23:48:47.800091Z",
     "iopub.status.idle": "2021-10-24T23:48:48.063986Z",
     "shell.execute_reply": "2021-10-24T23:48:48.063417Z",
     "shell.execute_reply.started": "2021-10-24T23:47:15.624591Z"
    },
    "papermill": {
     "duration": 0.309915,
     "end_time": "2021-10-24T23:48:48.064141",
     "exception": false,
     "start_time": "2021-10-24T23:48:47.754226",
     "status": "completed"
    },
    "tags": []
   },
   "outputs": [
    {
     "name": "stdout",
     "output_type": "stream",
     "text": [
      "Random forest score : 0.9148486980999296\n"
     ]
    }
   ],
   "source": [
    "from sklearn.ensemble import RandomForestClassifier\n",
    "\n",
    "y = train_df[\"esrb_rating\"]\n",
    "\n",
    "features = [\n",
    "\"animated_blood\",              \n",
    "\"blood\",                       \n",
    "\"blood_and_gore\",              \n",
    "\"cartoon_violence\",            \n",
    "\"crude_humor\",                 \n",
    "\"drug_reference\",              \n",
    "\"fantasy_violence\",            \n",
    "\"intense_violence\",            \n",
    "\"language\",                    \n",
    "\"lyrics\",                      \n",
    "\"mature_humor\",                \n",
    "\"mild_blood\",                 \n",
    "\"mild_cartoon_violence\",       \n",
    "\"mild_fantasy_violence\",       \n",
    "\"mild_language\",               \n",
    "\"mild_lyrics\",                 \n",
    "\"mild_suggestive_themes\",      \n",
    "\"mild_violence\",               \n",
    "\"no_descriptors\",             \n",
    "\"nudity\",                      \n",
    "\"partial_nudity\",             \n",
    "\"sexual_content\",            \n",
    "\"sexual_themes\",            \n",
    "\"simulated_gambling\",         \n",
    "\"strong_janguage\",             \n",
    "\"strong_sexual_content\",       \n",
    "\"suggestive_themes\",         \n",
    "\"use_of_alcohol\",             \n",
    "\"use_of_drugs_and_alcohol\",    \n",
    "\"violence\"]\n",
    "X = pd.get_dummies(train_df[features])\n",
    "X_test = pd.get_dummies(test_df[features])\n",
    "\n",
    "model = RandomForestClassifier(n_estimators=100, max_depth=5, random_state=1)\n",
    "model.fit(X, y)\n",
    "predictions = model.predict(X_test)\n",
    "\n",
    "output = pd.DataFrame({'id': test_df.id, 'esrb_rating': predictions})\n",
    "#output.to_csv('submission.csv', index=False)\n",
    "print(\"Random forest score : \" + str(decision_tree_score))"
   ]
  },
  {
   "cell_type": "code",
   "execution_count": 8,
   "id": "78cbfb46",
   "metadata": {
    "execution": {
     "iopub.execute_input": "2021-10-24T23:48:48.145011Z",
     "iopub.status.busy": "2021-10-24T23:48:48.143986Z",
     "iopub.status.idle": "2021-10-24T23:48:48.210689Z",
     "shell.execute_reply": "2021-10-24T23:48:48.210112Z",
     "shell.execute_reply.started": "2021-10-24T23:47:15.875375Z"
    },
    "papermill": {
     "duration": 0.109698,
     "end_time": "2021-10-24T23:48:48.210850",
     "exception": false,
     "start_time": "2021-10-24T23:48:48.101152",
     "status": "completed"
    },
    "tags": []
   },
   "outputs": [
    {
     "name": "stdout",
     "output_type": "stream",
     "text": [
      "       animated_blood        blood  blood_and_gore  cartoon_violence  \\\n",
      "count     1421.000000  1421.000000     1421.000000       1421.000000   \n",
      "mean         0.009852     0.219564        0.132301          0.019001   \n",
      "std          0.098803     0.414097        0.338937          0.136575   \n",
      "min          0.000000     0.000000        0.000000          0.000000   \n",
      "25%          0.000000     0.000000        0.000000          0.000000   \n",
      "50%          0.000000     0.000000        0.000000          0.000000   \n",
      "75%          0.000000     0.000000        0.000000          0.000000   \n",
      "max          1.000000     1.000000        1.000000          1.000000   \n",
      "\n",
      "       crude_humor  drug_reference  fantasy_violence  intense_violence  \\\n",
      "count  1421.000000     1421.000000       1421.000000       1421.000000   \n",
      "mean      0.056298        0.034483          0.235749          0.123856   \n",
      "std       0.230578        0.182530          0.424616          0.329534   \n",
      "min       0.000000        0.000000          0.000000          0.000000   \n",
      "25%       0.000000        0.000000          0.000000          0.000000   \n",
      "50%       0.000000        0.000000          0.000000          0.000000   \n",
      "75%       0.000000        0.000000          0.000000          0.000000   \n",
      "max       1.000000        1.000000          1.000000          1.000000   \n",
      "\n",
      "          language       lyrics  ...  partial_nudity  sexual_content  \\\n",
      "count  1421.000000  1421.000000  ...     1421.000000     1421.000000   \n",
      "mean      0.109782     0.028149  ...        0.014075        0.028149   \n",
      "std       0.312728     0.165457  ...        0.117840        0.165457   \n",
      "min       0.000000     0.000000  ...        0.000000        0.000000   \n",
      "25%       0.000000     0.000000  ...        0.000000        0.000000   \n",
      "50%       0.000000     0.000000  ...        0.000000        0.000000   \n",
      "75%       0.000000     0.000000  ...        0.000000        0.000000   \n",
      "max       1.000000     1.000000  ...        1.000000        1.000000   \n",
      "\n",
      "       sexual_themes  simulated_gambling  strong_janguage  \\\n",
      "count    1421.000000         1421.000000      1421.000000   \n",
      "mean        0.055595            0.065447         0.116819   \n",
      "std         0.229218            0.247400         0.321318   \n",
      "min         0.000000            0.000000         0.000000   \n",
      "25%         0.000000            0.000000         0.000000   \n",
      "50%         0.000000            0.000000         0.000000   \n",
      "75%         0.000000            0.000000         0.000000   \n",
      "max         1.000000            1.000000         1.000000   \n",
      "\n",
      "       strong_sexual_content  suggestive_themes  use_of_alcohol  \\\n",
      "count             1421.00000        1421.000000     1421.000000   \n",
      "mean                 0.04152           0.111189        0.016890   \n",
      "std                  0.19956           0.314477        0.128903   \n",
      "min                  0.00000           0.000000        0.000000   \n",
      "25%                  0.00000           0.000000        0.000000   \n",
      "50%                  0.00000           0.000000        0.000000   \n",
      "75%                  0.00000           0.000000        0.000000   \n",
      "max                  1.00000           1.000000        1.000000   \n",
      "\n",
      "       use_of_drugs_and_alcohol     violence  \n",
      "count               1421.000000  1421.000000  \n",
      "mean                   0.016186     0.061928  \n",
      "std                    0.126234     0.241110  \n",
      "min                    0.000000     0.000000  \n",
      "25%                    0.000000     0.000000  \n",
      "50%                    0.000000     0.000000  \n",
      "75%                    0.000000     0.000000  \n",
      "max                    1.000000     1.000000  \n",
      "\n",
      "[8 rows x 30 columns]\n"
     ]
    }
   ],
   "source": [
    "print(X.describe())"
   ]
  },
  {
   "cell_type": "markdown",
   "id": "48e60ba3",
   "metadata": {
    "papermill": {
     "duration": 0.037761,
     "end_time": "2021-10-24T23:48:48.286577",
     "exception": false,
     "start_time": "2021-10-24T23:48:48.248816",
     "status": "completed"
    },
    "tags": []
   },
   "source": [
    "**NEAREST NEIGHBORS MODEL**"
   ]
  },
  {
   "cell_type": "code",
   "execution_count": 9,
   "id": "548a89e9",
   "metadata": {
    "execution": {
     "iopub.execute_input": "2021-10-24T23:48:48.374208Z",
     "iopub.status.busy": "2021-10-24T23:48:48.373553Z",
     "iopub.status.idle": "2021-10-24T23:48:48.561639Z",
     "shell.execute_reply": "2021-10-24T23:48:48.562364Z",
     "shell.execute_reply.started": "2021-10-24T23:47:15.949806Z"
    },
    "papermill": {
     "duration": 0.238158,
     "end_time": "2021-10-24T23:48:48.562600",
     "exception": false,
     "start_time": "2021-10-24T23:48:48.324442",
     "status": "completed"
    },
    "tags": []
   },
   "outputs": [
    {
     "name": "stdout",
     "output_type": "stream",
     "text": [
      "Nearest Neighbors Model Score: 0.8740323715693173\n"
     ]
    }
   ],
   "source": [
    "from sklearn.neighbors import KNeighborsClassifier\n",
    "\n",
    "knn = KNeighborsClassifier(n_neighbors = 3) \n",
    "knn_model = knn.fit(X, y)  \n",
    "knn_pred = knn.predict(X_test)  \n",
    "knn_score = knn.score(X, y)\n",
    "\n",
    "print(\"Nearest Neighbors Model Score: \" + str(knn_score))"
   ]
  },
  {
   "cell_type": "code",
   "execution_count": 10,
   "id": "69daeafb",
   "metadata": {
    "execution": {
     "iopub.execute_input": "2021-10-24T23:48:48.645703Z",
     "iopub.status.busy": "2021-10-24T23:48:48.645023Z",
     "iopub.status.idle": "2021-10-24T23:48:48.712266Z",
     "shell.execute_reply": "2021-10-24T23:48:48.711418Z",
     "shell.execute_reply.started": "2021-10-24T23:47:16.148887Z"
    },
    "papermill": {
     "duration": 0.111731,
     "end_time": "2021-10-24T23:48:48.712471",
     "exception": false,
     "start_time": "2021-10-24T23:48:48.600740",
     "status": "completed"
    },
    "tags": []
   },
   "outputs": [
    {
     "name": "stdout",
     "output_type": "stream",
     "text": [
      "       animated_blood        blood  blood_and_gore  cartoon_violence  \\\n",
      "count     1421.000000  1421.000000     1421.000000       1421.000000   \n",
      "mean         0.009852     0.219564        0.132301          0.019001   \n",
      "std          0.098803     0.414097        0.338937          0.136575   \n",
      "min          0.000000     0.000000        0.000000          0.000000   \n",
      "25%          0.000000     0.000000        0.000000          0.000000   \n",
      "50%          0.000000     0.000000        0.000000          0.000000   \n",
      "75%          0.000000     0.000000        0.000000          0.000000   \n",
      "max          1.000000     1.000000        1.000000          1.000000   \n",
      "\n",
      "       crude_humor  drug_reference  fantasy_violence  intense_violence  \\\n",
      "count  1421.000000     1421.000000       1421.000000       1421.000000   \n",
      "mean      0.056298        0.034483          0.235749          0.123856   \n",
      "std       0.230578        0.182530          0.424616          0.329534   \n",
      "min       0.000000        0.000000          0.000000          0.000000   \n",
      "25%       0.000000        0.000000          0.000000          0.000000   \n",
      "50%       0.000000        0.000000          0.000000          0.000000   \n",
      "75%       0.000000        0.000000          0.000000          0.000000   \n",
      "max       1.000000        1.000000          1.000000          1.000000   \n",
      "\n",
      "          language       lyrics  ...  partial_nudity  sexual_content  \\\n",
      "count  1421.000000  1421.000000  ...     1421.000000     1421.000000   \n",
      "mean      0.109782     0.028149  ...        0.014075        0.028149   \n",
      "std       0.312728     0.165457  ...        0.117840        0.165457   \n",
      "min       0.000000     0.000000  ...        0.000000        0.000000   \n",
      "25%       0.000000     0.000000  ...        0.000000        0.000000   \n",
      "50%       0.000000     0.000000  ...        0.000000        0.000000   \n",
      "75%       0.000000     0.000000  ...        0.000000        0.000000   \n",
      "max       1.000000     1.000000  ...        1.000000        1.000000   \n",
      "\n",
      "       sexual_themes  simulated_gambling  strong_janguage  \\\n",
      "count    1421.000000         1421.000000      1421.000000   \n",
      "mean        0.055595            0.065447         0.116819   \n",
      "std         0.229218            0.247400         0.321318   \n",
      "min         0.000000            0.000000         0.000000   \n",
      "25%         0.000000            0.000000         0.000000   \n",
      "50%         0.000000            0.000000         0.000000   \n",
      "75%         0.000000            0.000000         0.000000   \n",
      "max         1.000000            1.000000         1.000000   \n",
      "\n",
      "       strong_sexual_content  suggestive_themes  use_of_alcohol  \\\n",
      "count             1421.00000        1421.000000     1421.000000   \n",
      "mean                 0.04152           0.111189        0.016890   \n",
      "std                  0.19956           0.314477        0.128903   \n",
      "min                  0.00000           0.000000        0.000000   \n",
      "25%                  0.00000           0.000000        0.000000   \n",
      "50%                  0.00000           0.000000        0.000000   \n",
      "75%                  0.00000           0.000000        0.000000   \n",
      "max                  1.00000           1.000000        1.000000   \n",
      "\n",
      "       use_of_drugs_and_alcohol     violence  \n",
      "count               1421.000000  1421.000000  \n",
      "mean                   0.016186     0.061928  \n",
      "std                    0.126234     0.241110  \n",
      "min                    0.000000     0.000000  \n",
      "25%                    0.000000     0.000000  \n",
      "50%                    0.000000     0.000000  \n",
      "75%                    0.000000     0.000000  \n",
      "max                    1.000000     1.000000  \n",
      "\n",
      "[8 rows x 30 columns]\n"
     ]
    }
   ],
   "source": [
    "print(X.describe())"
   ]
  },
  {
   "cell_type": "markdown",
   "id": "28b07761",
   "metadata": {
    "papermill": {
     "duration": 0.037786,
     "end_time": "2021-10-24T23:48:48.790951",
     "exception": false,
     "start_time": "2021-10-24T23:48:48.753165",
     "status": "completed"
    },
    "tags": []
   },
   "source": [
    "Creating output from model with best score which was random forest with a score of .9148"
   ]
  },
  {
   "cell_type": "code",
   "execution_count": 11,
   "id": "7a6f910b",
   "metadata": {
    "execution": {
     "iopub.execute_input": "2021-10-24T23:48:48.872027Z",
     "iopub.status.busy": "2021-10-24T23:48:48.870959Z",
     "iopub.status.idle": "2021-10-24T23:48:48.882824Z",
     "shell.execute_reply": "2021-10-24T23:48:48.883376Z",
     "shell.execute_reply.started": "2021-10-24T23:47:16.224449Z"
    },
    "papermill": {
     "duration": 0.053895,
     "end_time": "2021-10-24T23:48:48.883550",
     "exception": false,
     "start_time": "2021-10-24T23:48:48.829655",
     "status": "completed"
    },
    "tags": []
   },
   "outputs": [
    {
     "name": "stdout",
     "output_type": "stream",
     "text": [
      "Your submission was successfully saved!\n"
     ]
    }
   ],
   "source": [
    "predictions = decision_tree.predict(X_test)  \n",
    "output = pd.DataFrame({'id': test_df.id, 'esrb_rating': predictions})\n",
    "output.to_csv('submission.csv', index=False)\n",
    "print(\"Your submission was successfully saved!\")"
   ]
  }
 ],
 "metadata": {
  "kernelspec": {
   "display_name": "Python 3",
   "language": "python",
   "name": "python3"
  },
  "language_info": {
   "codemirror_mode": {
    "name": "ipython",
    "version": 3
   },
   "file_extension": ".py",
   "mimetype": "text/x-python",
   "name": "python",
   "nbconvert_exporter": "python",
   "pygments_lexer": "ipython3",
   "version": "3.7.10"
  },
  "papermill": {
   "default_parameters": {},
   "duration": 35.676686,
   "end_time": "2021-10-24T23:48:50.036162",
   "environment_variables": {},
   "exception": null,
   "input_path": "__notebook__.ipynb",
   "output_path": "__notebook__.ipynb",
   "parameters": {},
   "start_time": "2021-10-24T23:48:14.359476",
   "version": "2.3.3"
  }
 },
 "nbformat": 4,
 "nbformat_minor": 5
}
