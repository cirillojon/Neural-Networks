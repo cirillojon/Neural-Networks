{
 "cells": [
  {
   "cell_type": "code",
   "execution_count": 1,
   "id": "51112962",
   "metadata": {
    "_cell_guid": "b1076dfc-b9ad-4769-8c92-a6c4dae69d19",
    "_uuid": "8f2839f25d086af736a60e9eeb907d3b93b6e0e5",
    "execution": {
     "iopub.execute_input": "2021-11-22T02:02:20.700957Z",
     "iopub.status.busy": "2021-11-22T02:02:20.699207Z",
     "iopub.status.idle": "2021-11-22T02:02:27.189515Z",
     "shell.execute_reply": "2021-11-22T02:02:27.189995Z",
     "shell.execute_reply.started": "2021-11-20T15:21:26.685405Z"
    },
    "papermill": {
     "duration": 6.50992,
     "end_time": "2021-11-22T02:02:27.190385",
     "exception": false,
     "start_time": "2021-11-22T02:02:20.680465",
     "status": "completed"
    },
    "tags": []
   },
   "outputs": [
    {
     "name": "stdout",
     "output_type": "stream",
     "text": [
      "/kaggle/input/cap-4611-2021-fall-assignment-4/sample_submission.csv\n",
      "/kaggle/input/cap-4611-2021-fall-assignment-4/eval.csv\n",
      "/kaggle/input/cap-4611-2021-fall-assignment-4/train.csv\n"
     ]
    }
   ],
   "source": [
    "# This Python 3 environment comes with many helpful analytics libraries installed\n",
    "# It is defined by the kaggle/python Docker image: https://github.com/kaggle/docker-python\n",
    "# For example, here's several helpful packages to load\n",
    "\n",
    "import numpy as np # linear algebra\n",
    "import pandas as pd # data processing, CSV file I/O (e.g. pd.read_csv)\n",
    "import tensorflow as tf\n",
    "import matplotlib as plt\n",
    "\n",
    "from tensorflow import keras\n",
    "from sklearn.model_selection import train_test_split\n",
    "from keras.layers import Dense\n",
    "from keras.layers import Dropout\n",
    "\n",
    "# Input data files are available in the read-only \"../input/\" directory\n",
    "# For example, running this (by clicking run or pressing Shift+Enter) will list all files under the input directory\n",
    "\n",
    "import os\n",
    "for dirname, _, filenames in os.walk('/kaggle/input'):\n",
    "    for filename in filenames:\n",
    "        print(os.path.join(dirname, filename))\n",
    "\n",
    "# You can write up to 20GB to the current directory (/kaggle/working/) that gets preserved as output when you create a version using \"Save & Run All\" \n",
    "# You can also write temporary files to /kaggle/temp/, but they won't be saved outside of the current session"
   ]
  },
  {
   "cell_type": "markdown",
   "id": "2304fa81",
   "metadata": {
    "papermill": {
     "duration": 0.015485,
     "end_time": "2021-11-22T02:02:27.220273",
     "exception": false,
     "start_time": "2021-11-22T02:02:27.204788",
     "status": "completed"
    },
    "tags": []
   },
   "source": [
    "## Read CSV"
   ]
  },
  {
   "cell_type": "code",
   "execution_count": 2,
   "id": "4f446f72",
   "metadata": {
    "execution": {
     "iopub.execute_input": "2021-11-22T02:02:27.252934Z",
     "iopub.status.busy": "2021-11-22T02:02:27.252216Z",
     "iopub.status.idle": "2021-11-22T02:02:37.076984Z",
     "shell.execute_reply": "2021-11-22T02:02:37.076409Z",
     "shell.execute_reply.started": "2021-11-20T15:21:33.939661Z"
    },
    "papermill": {
     "duration": 9.843287,
     "end_time": "2021-11-22T02:02:37.077162",
     "exception": false,
     "start_time": "2021-11-22T02:02:27.233875",
     "status": "completed"
    },
    "tags": []
   },
   "outputs": [],
   "source": [
    "train_df = pd.read_csv(\"../input/cap-4611-2021-fall-assignment-4/train.csv\", low_memory = False)\n",
    "test_df = pd.read_csv(\"../input/cap-4611-2021-fall-assignment-4/eval.csv\", low_memory = False)"
   ]
  },
  {
   "cell_type": "markdown",
   "id": "c81677bd",
   "metadata": {
    "papermill": {
     "duration": 0.01383,
     "end_time": "2021-11-22T02:02:37.104772",
     "exception": false,
     "start_time": "2021-11-22T02:02:37.090942",
     "status": "completed"
    },
    "tags": []
   },
   "source": [
    "## Exploratory Data Analysis"
   ]
  },
  {
   "cell_type": "code",
   "execution_count": 3,
   "id": "ae07090b",
   "metadata": {
    "execution": {
     "iopub.execute_input": "2021-11-22T02:02:37.141151Z",
     "iopub.status.busy": "2021-11-22T02:02:37.140151Z",
     "iopub.status.idle": "2021-11-22T02:02:37.161242Z",
     "shell.execute_reply": "2021-11-22T02:02:37.160730Z",
     "shell.execute_reply.started": "2021-11-20T15:21:44.807572Z"
    },
    "papermill": {
     "duration": 0.043108,
     "end_time": "2021-11-22T02:02:37.161389",
     "exception": false,
     "start_time": "2021-11-22T02:02:37.118281",
     "status": "completed"
    },
    "tags": []
   },
   "outputs": [
    {
     "data": {
      "text/html": [
       "<div>\n",
       "<style scoped>\n",
       "    .dataframe tbody tr th:only-of-type {\n",
       "        vertical-align: middle;\n",
       "    }\n",
       "\n",
       "    .dataframe tbody tr th {\n",
       "        vertical-align: top;\n",
       "    }\n",
       "\n",
       "    .dataframe thead th {\n",
       "        text-align: right;\n",
       "    }\n",
       "</style>\n",
       "<table border=\"1\" class=\"dataframe\">\n",
       "  <thead>\n",
       "    <tr style=\"text-align: right;\">\n",
       "      <th></th>\n",
       "      <th>id</th>\n",
       "      <th>label</th>\n",
       "      <th>pixel1</th>\n",
       "      <th>pixel2</th>\n",
       "      <th>pixel3</th>\n",
       "      <th>pixel4</th>\n",
       "      <th>pixel5</th>\n",
       "      <th>pixel6</th>\n",
       "      <th>pixel7</th>\n",
       "      <th>pixel8</th>\n",
       "      <th>...</th>\n",
       "      <th>pixel775</th>\n",
       "      <th>pixel776</th>\n",
       "      <th>pixel777</th>\n",
       "      <th>pixel778</th>\n",
       "      <th>pixel779</th>\n",
       "      <th>pixel780</th>\n",
       "      <th>pixel781</th>\n",
       "      <th>pixel782</th>\n",
       "      <th>pixel783</th>\n",
       "      <th>pixel784</th>\n",
       "    </tr>\n",
       "  </thead>\n",
       "  <tbody>\n",
       "    <tr>\n",
       "      <th>0</th>\n",
       "      <td>10000</td>\n",
       "      <td>4</td>\n",
       "      <td>0</td>\n",
       "      <td>0</td>\n",
       "      <td>0</td>\n",
       "      <td>0</td>\n",
       "      <td>0</td>\n",
       "      <td>0</td>\n",
       "      <td>1</td>\n",
       "      <td>1</td>\n",
       "      <td>...</td>\n",
       "      <td>111</td>\n",
       "      <td>81</td>\n",
       "      <td>0</td>\n",
       "      <td>0</td>\n",
       "      <td>0</td>\n",
       "      <td>3</td>\n",
       "      <td>28</td>\n",
       "      <td>0</td>\n",
       "      <td>0</td>\n",
       "      <td>0</td>\n",
       "    </tr>\n",
       "    <tr>\n",
       "      <th>1</th>\n",
       "      <td>10001</td>\n",
       "      <td>5</td>\n",
       "      <td>0</td>\n",
       "      <td>0</td>\n",
       "      <td>0</td>\n",
       "      <td>0</td>\n",
       "      <td>0</td>\n",
       "      <td>0</td>\n",
       "      <td>0</td>\n",
       "      <td>0</td>\n",
       "      <td>...</td>\n",
       "      <td>0</td>\n",
       "      <td>0</td>\n",
       "      <td>0</td>\n",
       "      <td>4</td>\n",
       "      <td>0</td>\n",
       "      <td>45</td>\n",
       "      <td>99</td>\n",
       "      <td>0</td>\n",
       "      <td>0</td>\n",
       "      <td>0</td>\n",
       "    </tr>\n",
       "    <tr>\n",
       "      <th>2</th>\n",
       "      <td>10002</td>\n",
       "      <td>8</td>\n",
       "      <td>0</td>\n",
       "      <td>0</td>\n",
       "      <td>0</td>\n",
       "      <td>0</td>\n",
       "      <td>0</td>\n",
       "      <td>0</td>\n",
       "      <td>0</td>\n",
       "      <td>0</td>\n",
       "      <td>...</td>\n",
       "      <td>0</td>\n",
       "      <td>0</td>\n",
       "      <td>0</td>\n",
       "      <td>0</td>\n",
       "      <td>0</td>\n",
       "      <td>0</td>\n",
       "      <td>0</td>\n",
       "      <td>0</td>\n",
       "      <td>0</td>\n",
       "      <td>0</td>\n",
       "    </tr>\n",
       "    <tr>\n",
       "      <th>3</th>\n",
       "      <td>10003</td>\n",
       "      <td>6</td>\n",
       "      <td>0</td>\n",
       "      <td>0</td>\n",
       "      <td>0</td>\n",
       "      <td>0</td>\n",
       "      <td>0</td>\n",
       "      <td>0</td>\n",
       "      <td>0</td>\n",
       "      <td>0</td>\n",
       "      <td>...</td>\n",
       "      <td>34</td>\n",
       "      <td>0</td>\n",
       "      <td>0</td>\n",
       "      <td>0</td>\n",
       "      <td>0</td>\n",
       "      <td>0</td>\n",
       "      <td>0</td>\n",
       "      <td>0</td>\n",
       "      <td>0</td>\n",
       "      <td>0</td>\n",
       "    </tr>\n",
       "    <tr>\n",
       "      <th>4</th>\n",
       "      <td>10004</td>\n",
       "      <td>8</td>\n",
       "      <td>0</td>\n",
       "      <td>0</td>\n",
       "      <td>0</td>\n",
       "      <td>0</td>\n",
       "      <td>0</td>\n",
       "      <td>0</td>\n",
       "      <td>0</td>\n",
       "      <td>0</td>\n",
       "      <td>...</td>\n",
       "      <td>133</td>\n",
       "      <td>125</td>\n",
       "      <td>109</td>\n",
       "      <td>90</td>\n",
       "      <td>42</td>\n",
       "      <td>0</td>\n",
       "      <td>0</td>\n",
       "      <td>0</td>\n",
       "      <td>0</td>\n",
       "      <td>0</td>\n",
       "    </tr>\n",
       "  </tbody>\n",
       "</table>\n",
       "<p>5 rows × 786 columns</p>\n",
       "</div>"
      ],
      "text/plain": [
       "      id  label  pixel1  pixel2  pixel3  pixel4  pixel5  pixel6  pixel7  \\\n",
       "0  10000      4       0       0       0       0       0       0       1   \n",
       "1  10001      5       0       0       0       0       0       0       0   \n",
       "2  10002      8       0       0       0       0       0       0       0   \n",
       "3  10003      6       0       0       0       0       0       0       0   \n",
       "4  10004      8       0       0       0       0       0       0       0   \n",
       "\n",
       "   pixel8  ...  pixel775  pixel776  pixel777  pixel778  pixel779  pixel780  \\\n",
       "0       1  ...       111        81         0         0         0         3   \n",
       "1       0  ...         0         0         0         4         0        45   \n",
       "2       0  ...         0         0         0         0         0         0   \n",
       "3       0  ...        34         0         0         0         0         0   \n",
       "4       0  ...       133       125       109        90        42         0   \n",
       "\n",
       "   pixel781  pixel782  pixel783  pixel784  \n",
       "0        28         0         0         0  \n",
       "1        99         0         0         0  \n",
       "2         0         0         0         0  \n",
       "3         0         0         0         0  \n",
       "4         0         0         0         0  \n",
       "\n",
       "[5 rows x 786 columns]"
      ]
     },
     "execution_count": 3,
     "metadata": {},
     "output_type": "execute_result"
    }
   ],
   "source": [
    "train_df.head()"
   ]
  },
  {
   "cell_type": "code",
   "execution_count": 4,
   "id": "6150e4cd",
   "metadata": {
    "execution": {
     "iopub.execute_input": "2021-11-22T02:02:37.208507Z",
     "iopub.status.busy": "2021-11-22T02:02:37.206473Z",
     "iopub.status.idle": "2021-11-22T02:02:37.211013Z",
     "shell.execute_reply": "2021-11-22T02:02:37.210511Z",
     "shell.execute_reply.started": "2021-11-20T15:21:44.840026Z"
    },
    "papermill": {
     "duration": 0.035552,
     "end_time": "2021-11-22T02:02:37.211161",
     "exception": false,
     "start_time": "2021-11-22T02:02:37.175609",
     "status": "completed"
    },
    "tags": []
   },
   "outputs": [
    {
     "data": {
      "text/html": [
       "<div>\n",
       "<style scoped>\n",
       "    .dataframe tbody tr th:only-of-type {\n",
       "        vertical-align: middle;\n",
       "    }\n",
       "\n",
       "    .dataframe tbody tr th {\n",
       "        vertical-align: top;\n",
       "    }\n",
       "\n",
       "    .dataframe thead th {\n",
       "        text-align: right;\n",
       "    }\n",
       "</style>\n",
       "<table border=\"1\" class=\"dataframe\">\n",
       "  <thead>\n",
       "    <tr style=\"text-align: right;\">\n",
       "      <th></th>\n",
       "      <th>id</th>\n",
       "      <th>pixel1</th>\n",
       "      <th>pixel2</th>\n",
       "      <th>pixel3</th>\n",
       "      <th>pixel4</th>\n",
       "      <th>pixel5</th>\n",
       "      <th>pixel6</th>\n",
       "      <th>pixel7</th>\n",
       "      <th>pixel8</th>\n",
       "      <th>pixel9</th>\n",
       "      <th>...</th>\n",
       "      <th>pixel775</th>\n",
       "      <th>pixel776</th>\n",
       "      <th>pixel777</th>\n",
       "      <th>pixel778</th>\n",
       "      <th>pixel779</th>\n",
       "      <th>pixel780</th>\n",
       "      <th>pixel781</th>\n",
       "      <th>pixel782</th>\n",
       "      <th>pixel783</th>\n",
       "      <th>pixel784</th>\n",
       "    </tr>\n",
       "  </thead>\n",
       "  <tbody>\n",
       "    <tr>\n",
       "      <th>0</th>\n",
       "      <td>0</td>\n",
       "      <td>0</td>\n",
       "      <td>0</td>\n",
       "      <td>0</td>\n",
       "      <td>0</td>\n",
       "      <td>0</td>\n",
       "      <td>0</td>\n",
       "      <td>0</td>\n",
       "      <td>0</td>\n",
       "      <td>0</td>\n",
       "      <td>...</td>\n",
       "      <td>0</td>\n",
       "      <td>0</td>\n",
       "      <td>0</td>\n",
       "      <td>0</td>\n",
       "      <td>0</td>\n",
       "      <td>0</td>\n",
       "      <td>0</td>\n",
       "      <td>0</td>\n",
       "      <td>0</td>\n",
       "      <td>0</td>\n",
       "    </tr>\n",
       "    <tr>\n",
       "      <th>1</th>\n",
       "      <td>1</td>\n",
       "      <td>0</td>\n",
       "      <td>0</td>\n",
       "      <td>0</td>\n",
       "      <td>0</td>\n",
       "      <td>0</td>\n",
       "      <td>0</td>\n",
       "      <td>0</td>\n",
       "      <td>0</td>\n",
       "      <td>2</td>\n",
       "      <td>...</td>\n",
       "      <td>0</td>\n",
       "      <td>0</td>\n",
       "      <td>0</td>\n",
       "      <td>6</td>\n",
       "      <td>217</td>\n",
       "      <td>220</td>\n",
       "      <td>141</td>\n",
       "      <td>0</td>\n",
       "      <td>0</td>\n",
       "      <td>0</td>\n",
       "    </tr>\n",
       "    <tr>\n",
       "      <th>2</th>\n",
       "      <td>2</td>\n",
       "      <td>0</td>\n",
       "      <td>0</td>\n",
       "      <td>0</td>\n",
       "      <td>0</td>\n",
       "      <td>0</td>\n",
       "      <td>1</td>\n",
       "      <td>0</td>\n",
       "      <td>0</td>\n",
       "      <td>0</td>\n",
       "      <td>...</td>\n",
       "      <td>75</td>\n",
       "      <td>74</td>\n",
       "      <td>109</td>\n",
       "      <td>55</td>\n",
       "      <td>0</td>\n",
       "      <td>3</td>\n",
       "      <td>0</td>\n",
       "      <td>0</td>\n",
       "      <td>0</td>\n",
       "      <td>0</td>\n",
       "    </tr>\n",
       "    <tr>\n",
       "      <th>3</th>\n",
       "      <td>3</td>\n",
       "      <td>0</td>\n",
       "      <td>0</td>\n",
       "      <td>0</td>\n",
       "      <td>0</td>\n",
       "      <td>0</td>\n",
       "      <td>0</td>\n",
       "      <td>0</td>\n",
       "      <td>0</td>\n",
       "      <td>0</td>\n",
       "      <td>...</td>\n",
       "      <td>0</td>\n",
       "      <td>0</td>\n",
       "      <td>0</td>\n",
       "      <td>0</td>\n",
       "      <td>0</td>\n",
       "      <td>0</td>\n",
       "      <td>0</td>\n",
       "      <td>0</td>\n",
       "      <td>0</td>\n",
       "      <td>0</td>\n",
       "    </tr>\n",
       "    <tr>\n",
       "      <th>4</th>\n",
       "      <td>4</td>\n",
       "      <td>0</td>\n",
       "      <td>0</td>\n",
       "      <td>0</td>\n",
       "      <td>0</td>\n",
       "      <td>0</td>\n",
       "      <td>0</td>\n",
       "      <td>0</td>\n",
       "      <td>0</td>\n",
       "      <td>0</td>\n",
       "      <td>...</td>\n",
       "      <td>0</td>\n",
       "      <td>0</td>\n",
       "      <td>0</td>\n",
       "      <td>0</td>\n",
       "      <td>0</td>\n",
       "      <td>0</td>\n",
       "      <td>0</td>\n",
       "      <td>0</td>\n",
       "      <td>0</td>\n",
       "      <td>0</td>\n",
       "    </tr>\n",
       "  </tbody>\n",
       "</table>\n",
       "<p>5 rows × 785 columns</p>\n",
       "</div>"
      ],
      "text/plain": [
       "   id  pixel1  pixel2  pixel3  pixel4  pixel5  pixel6  pixel7  pixel8  pixel9  \\\n",
       "0   0       0       0       0       0       0       0       0       0       0   \n",
       "1   1       0       0       0       0       0       0       0       0       2   \n",
       "2   2       0       0       0       0       0       1       0       0       0   \n",
       "3   3       0       0       0       0       0       0       0       0       0   \n",
       "4   4       0       0       0       0       0       0       0       0       0   \n",
       "\n",
       "   ...  pixel775  pixel776  pixel777  pixel778  pixel779  pixel780  pixel781  \\\n",
       "0  ...         0         0         0         0         0         0         0   \n",
       "1  ...         0         0         0         6       217       220       141   \n",
       "2  ...        75        74       109        55         0         3         0   \n",
       "3  ...         0         0         0         0         0         0         0   \n",
       "4  ...         0         0         0         0         0         0         0   \n",
       "\n",
       "   pixel782  pixel783  pixel784  \n",
       "0         0         0         0  \n",
       "1         0         0         0  \n",
       "2         0         0         0  \n",
       "3         0         0         0  \n",
       "4         0         0         0  \n",
       "\n",
       "[5 rows x 785 columns]"
      ]
     },
     "execution_count": 4,
     "metadata": {},
     "output_type": "execute_result"
    }
   ],
   "source": [
    "test_df.head()"
   ]
  },
  {
   "cell_type": "code",
   "execution_count": 5,
   "id": "ffa5db78",
   "metadata": {
    "execution": {
     "iopub.execute_input": "2021-11-22T02:02:37.245623Z",
     "iopub.status.busy": "2021-11-22T02:02:37.244827Z",
     "iopub.status.idle": "2021-11-22T02:02:37.248910Z",
     "shell.execute_reply": "2021-11-22T02:02:37.249428Z",
     "shell.execute_reply.started": "2021-11-20T15:21:44.859216Z"
    },
    "papermill": {
     "duration": 0.023802,
     "end_time": "2021-11-22T02:02:37.249603",
     "exception": false,
     "start_time": "2021-11-22T02:02:37.225801",
     "status": "completed"
    },
    "tags": []
   },
   "outputs": [
    {
     "name": "stdout",
     "output_type": "stream",
     "text": [
      "(60000, 786)\n",
      "(10000, 785)\n"
     ]
    }
   ],
   "source": [
    "print(train_df.shape)\n",
    "print(test_df.shape)"
   ]
  },
  {
   "cell_type": "code",
   "execution_count": 6,
   "id": "1b8ee5c9",
   "metadata": {
    "execution": {
     "iopub.execute_input": "2021-11-22T02:02:37.285317Z",
     "iopub.status.busy": "2021-11-22T02:02:37.284485Z",
     "iopub.status.idle": "2021-11-22T02:02:37.287770Z",
     "shell.execute_reply": "2021-11-22T02:02:37.288490Z",
     "shell.execute_reply.started": "2021-11-20T15:21:44.872861Z"
    },
    "papermill": {
     "duration": 0.02414,
     "end_time": "2021-11-22T02:02:37.288719",
     "exception": false,
     "start_time": "2021-11-22T02:02:37.264579",
     "status": "completed"
    },
    "tags": []
   },
   "outputs": [
    {
     "name": "stdout",
     "output_type": "stream",
     "text": [
      "2\n",
      "2\n"
     ]
    }
   ],
   "source": [
    "print(train_df.ndim)\n",
    "print(test_df.ndim)"
   ]
  },
  {
   "cell_type": "code",
   "execution_count": 7,
   "id": "f72249c1",
   "metadata": {
    "execution": {
     "iopub.execute_input": "2021-11-22T02:02:37.324048Z",
     "iopub.status.busy": "2021-11-22T02:02:37.323107Z",
     "iopub.status.idle": "2021-11-22T02:02:37.329311Z",
     "shell.execute_reply": "2021-11-22T02:02:37.330058Z",
     "shell.execute_reply.started": "2021-11-20T15:21:44.884392Z"
    },
    "papermill": {
     "duration": 0.024853,
     "end_time": "2021-11-22T02:02:37.330272",
     "exception": false,
     "start_time": "2021-11-22T02:02:37.305419",
     "status": "completed"
    },
    "tags": []
   },
   "outputs": [
    {
     "name": "stdout",
     "output_type": "stream",
     "text": [
      "(60000, 786)\n",
      "(10000, 785)\n"
     ]
    }
   ],
   "source": [
    "print(train_df.shape)\n",
    "print(test_df.shape)"
   ]
  },
  {
   "cell_type": "code",
   "execution_count": 8,
   "id": "7311985b",
   "metadata": {
    "execution": {
     "iopub.execute_input": "2021-11-22T02:02:37.364537Z",
     "iopub.status.busy": "2021-11-22T02:02:37.363923Z",
     "iopub.status.idle": "2021-11-22T02:02:37.457541Z",
     "shell.execute_reply": "2021-11-22T02:02:37.458172Z",
     "shell.execute_reply.started": "2021-11-20T15:21:44.899057Z"
    },
    "papermill": {
     "duration": 0.112686,
     "end_time": "2021-11-22T02:02:37.458345",
     "exception": false,
     "start_time": "2021-11-22T02:02:37.345659",
     "status": "completed"
    },
    "tags": []
   },
   "outputs": [
    {
     "name": "stdout",
     "output_type": "stream",
     "text": [
      "0    786\n",
      "dtype: int64\n",
      "0    785\n",
      "dtype: int64\n"
     ]
    }
   ],
   "source": [
    "print(train_df.isna().sum().value_counts())\n",
    "print(test_df.isna().sum().value_counts())"
   ]
  },
  {
   "cell_type": "markdown",
   "id": "4f70e630",
   "metadata": {
    "papermill": {
     "duration": 0.015528,
     "end_time": "2021-11-22T02:02:37.489850",
     "exception": false,
     "start_time": "2021-11-22T02:02:37.474322",
     "status": "completed"
    },
    "tags": []
   },
   "source": [
    "## Train Test Split"
   ]
  },
  {
   "cell_type": "code",
   "execution_count": 9,
   "id": "e0955a00",
   "metadata": {
    "execution": {
     "iopub.execute_input": "2021-11-22T02:02:37.525082Z",
     "iopub.status.busy": "2021-11-22T02:02:37.524132Z",
     "iopub.status.idle": "2021-11-22T02:02:38.126008Z",
     "shell.execute_reply": "2021-11-22T02:02:38.125436Z",
     "shell.execute_reply.started": "2021-11-20T15:21:45.001089Z"
    },
    "papermill": {
     "duration": 0.620584,
     "end_time": "2021-11-22T02:02:38.126163",
     "exception": false,
     "start_time": "2021-11-22T02:02:37.505579",
     "status": "completed"
    },
    "tags": []
   },
   "outputs": [],
   "source": [
    "y = train_df['label']\n",
    "X = train_df.iloc[:,2:786].to_numpy().reshape(len(train_df), 28, 28, 1)\n",
    "\n",
    "test_modified = test_df.iloc[:,1:785].to_numpy().reshape(len(test_df), 28, 28, 1)\n",
    "\n",
    "X_train, X_test, y_train, y_test = train_test_split(X, y, test_size=0.10)"
   ]
  },
  {
   "cell_type": "code",
   "execution_count": 10,
   "id": "3191bf48",
   "metadata": {
    "execution": {
     "iopub.execute_input": "2021-11-22T02:02:38.168316Z",
     "iopub.status.busy": "2021-11-22T02:02:38.167568Z",
     "iopub.status.idle": "2021-11-22T02:02:38.527376Z",
     "shell.execute_reply": "2021-11-22T02:02:38.528115Z",
     "shell.execute_reply.started": "2021-11-20T15:21:45.586155Z"
    },
    "papermill": {
     "duration": 0.386425,
     "end_time": "2021-11-22T02:02:38.528363",
     "exception": false,
     "start_time": "2021-11-22T02:02:38.141938",
     "status": "completed"
    },
    "tags": []
   },
   "outputs": [
    {
     "name": "stderr",
     "output_type": "stream",
     "text": [
      "\n",
      "User settings:\n",
      "\n",
      "   KMP_AFFINITY=granularity=fine,verbose,compact,1,0\n",
      "   KMP_BLOCKTIME=0\n",
      "   KMP_DUPLICATE_LIB_OK=True\n",
      "   KMP_INIT_AT_FORK=FALSE\n",
      "   KMP_SETTINGS=1\n",
      "   KMP_WARNINGS=0\n",
      "\n",
      "Effective settings:\n",
      "\n",
      "   KMP_ABORT_DELAY=0\n",
      "   KMP_ADAPTIVE_LOCK_PROPS='1,1024'\n",
      "   KMP_ALIGN_ALLOC=64\n",
      "   KMP_ALL_THREADPRIVATE=128\n",
      "   KMP_ATOMIC_MODE=2\n",
      "   KMP_BLOCKTIME=0\n",
      "   KMP_CPUINFO_FILE: value is not defined\n",
      "   KMP_DETERMINISTIC_REDUCTION=false\n",
      "   KMP_DEVICE_THREAD_LIMIT=2147483647\n",
      "   KMP_DISP_NUM_BUFFERS=7\n",
      "   KMP_DUPLICATE_LIB_OK=true\n",
      "   KMP_ENABLE_TASK_THROTTLING=true\n",
      "   KMP_FORCE_REDUCTION: value is not defined\n",
      "   KMP_FOREIGN_THREADS_THREADPRIVATE=true\n",
      "   KMP_FORKJOIN_BARRIER='2,2'\n",
      "   KMP_FORKJOIN_BARRIER_PATTERN='hyper,hyper'\n",
      "   KMP_GTID_MODE=3\n",
      "   KMP_HANDLE_SIGNALS=false\n",
      "   KMP_HOT_TEAMS_MAX_LEVEL=1\n",
      "   KMP_HOT_TEAMS_MODE=0\n",
      "   KMP_INIT_AT_FORK=true\n",
      "   KMP_LIBRARY=throughput\n",
      "   KMP_LOCK_KIND=queuing\n",
      "   KMP_MALLOC_POOL_INCR=1M\n",
      "   KMP_NUM_LOCKS_IN_BLOCK=1\n",
      "   KMP_PLAIN_BARRIER='2,2'\n",
      "   KMP_PLAIN_BARRIER_PATTERN='hyper,hyper'\n",
      "   KMP_REDUCTION_BARRIER='1,1'\n",
      "   KMP_REDUCTION_BARRIER_PATTERN='hyper,hyper'\n",
      "   KMP_SCHEDULE='static,balanced;guided,iterative'\n",
      "   KMP_SETTINGS=true\n",
      "   KMP_SPIN_BACKOFF_PARAMS='4096,100'\n",
      "   KMP_STACKOFFSET=64\n",
      "   KMP_STACKPAD=0\n",
      "   KMP_STACKSIZE=8M\n",
      "   KMP_STORAGE_MAP=false\n",
      "   KMP_TASKING=2\n",
      "   KMP_TASKLOOP_MIN_TASKS=0\n",
      "   KMP_TASK_STEALING_CONSTRAINT=1\n",
      "   KMP_TEAMS_THREAD_LIMIT=4\n",
      "   KMP_TOPOLOGY_METHOD=all\n",
      "   KMP_USE_YIELD=1\n",
      "   KMP_VERSION=false\n",
      "   KMP_WARNINGS=false\n",
      "   OMP_AFFINITY_FORMAT='OMP: pid %P tid %i thread %n bound to OS proc set {%A}'\n",
      "   OMP_ALLOCATOR=omp_default_mem_alloc\n",
      "   OMP_CANCELLATION=false\n",
      "   OMP_DEFAULT_DEVICE=0\n",
      "   OMP_DISPLAY_AFFINITY=false\n",
      "   OMP_DISPLAY_ENV=false\n",
      "   OMP_DYNAMIC=false\n",
      "   OMP_MAX_ACTIVE_LEVELS=1\n",
      "   OMP_MAX_TASK_PRIORITY=0\n",
      "   OMP_NESTED: deprecated; max-active-levels-var=1\n",
      "   OMP_NUM_THREADS: value is not defined\n",
      "   OMP_PLACES: value is not defined\n",
      "   OMP_PROC_BIND='intel'\n",
      "   OMP_SCHEDULE='static'\n",
      "   OMP_STACKSIZE=8M\n",
      "   OMP_TARGET_OFFLOAD=DEFAULT\n",
      "   OMP_THREAD_LIMIT=2147483647\n",
      "   OMP_WAIT_POLICY=PASSIVE\n",
      "   KMP_AFFINITY='verbose,warnings,respect,granularity=fine,compact,1,0'\n",
      "\n",
      "2021-11-22 02:02:38.194587: I tensorflow/core/common_runtime/process_util.cc:146] Creating new thread pool with default inter op setting: 2. Tune using inter_op_parallelism_threads for best performance.\n"
     ]
    }
   ],
   "source": [
    "X_train = tf.convert_to_tensor(X_train)\n",
    "X_test = tf.convert_to_tensor(X_test)\n",
    "y_train = tf.convert_to_tensor(y_train)\n",
    "y_test = tf.convert_to_tensor(y_test)"
   ]
  },
  {
   "cell_type": "code",
   "execution_count": 11,
   "id": "99f077f7",
   "metadata": {
    "execution": {
     "iopub.execute_input": "2021-11-22T02:02:38.565853Z",
     "iopub.status.busy": "2021-11-22T02:02:38.565077Z",
     "iopub.status.idle": "2021-11-22T02:02:38.569277Z",
     "shell.execute_reply": "2021-11-22T02:02:38.569730Z",
     "shell.execute_reply.started": "2021-11-20T15:21:45.950703Z"
    },
    "papermill": {
     "duration": 0.023824,
     "end_time": "2021-11-22T02:02:38.569896",
     "exception": false,
     "start_time": "2021-11-22T02:02:38.546072",
     "status": "completed"
    },
    "tags": []
   },
   "outputs": [
    {
     "name": "stdout",
     "output_type": "stream",
     "text": [
      "(54000, 28, 28, 1)\n",
      "(54000,)\n",
      "(6000, 28, 28, 1)\n",
      "(6000,)\n"
     ]
    }
   ],
   "source": [
    "print(X_train.shape)\n",
    "print(y_train.shape)\n",
    "print(X_test.shape)\n",
    "print(y_test.shape)"
   ]
  },
  {
   "cell_type": "markdown",
   "id": "9b31f160",
   "metadata": {
    "papermill": {
     "duration": 0.016249,
     "end_time": "2021-11-22T02:02:38.602482",
     "exception": false,
     "start_time": "2021-11-22T02:02:38.586233",
     "status": "completed"
    },
    "tags": []
   },
   "source": [
    "## Model"
   ]
  },
  {
   "cell_type": "code",
   "execution_count": 12,
   "id": "df4f51a7",
   "metadata": {
    "execution": {
     "iopub.execute_input": "2021-11-22T02:02:38.639057Z",
     "iopub.status.busy": "2021-11-22T02:02:38.638454Z",
     "iopub.status.idle": "2021-11-22T02:02:39.519411Z",
     "shell.execute_reply": "2021-11-22T02:02:39.518856Z",
     "shell.execute_reply.started": "2021-11-20T15:21:45.958284Z"
    },
    "papermill": {
     "duration": 0.900023,
     "end_time": "2021-11-22T02:02:39.519569",
     "exception": false,
     "start_time": "2021-11-22T02:02:38.619546",
     "status": "completed"
    },
    "tags": []
   },
   "outputs": [],
   "source": [
    "model = keras.models.Sequential()\n",
    "model.add(keras.layers.Conv2D(64, 7, activation = \"relu\", padding = \"same\", input_shape = [28, 28, 1]))\n",
    "model.add(keras.layers.Conv2D(128, 3, activation = \"relu\", padding = \"same\"))\n",
    "model.add(keras.layers.Conv2D(256, 3, activation = \"relu\", padding = \"same\"))\n",
    "model.add(keras.layers.Flatten())\n",
    "model.add(keras.layers.Dense(150, activation = \"relu\"))\n",
    "model.add(keras.layers.Dense(100, activation = \"relu\"))\n",
    "model.add(keras.layers.Dense(50, activation = \"relu\"))\n",
    "model.add(keras.layers.Dropout(0.5))\n",
    "model.add(keras.layers.Dense(10, activation = \"softmax\"))"
   ]
  },
  {
   "cell_type": "code",
   "execution_count": 13,
   "id": "2184299f",
   "metadata": {
    "execution": {
     "iopub.execute_input": "2021-11-22T02:02:39.561268Z",
     "iopub.status.busy": "2021-11-22T02:02:39.560577Z",
     "iopub.status.idle": "2021-11-22T02:02:39.566937Z",
     "shell.execute_reply": "2021-11-22T02:02:39.567409Z",
     "shell.execute_reply.started": "2021-11-20T15:21:46.873433Z"
    },
    "papermill": {
     "duration": 0.031021,
     "end_time": "2021-11-22T02:02:39.567588",
     "exception": false,
     "start_time": "2021-11-22T02:02:39.536567",
     "status": "completed"
    },
    "tags": []
   },
   "outputs": [],
   "source": [
    "model.compile(loss = \"sparse_categorical_crossentropy\", optimizer = \"Adam\", metrics = [\"accuracy\"])"
   ]
  },
  {
   "cell_type": "code",
   "execution_count": 14,
   "id": "a298701e",
   "metadata": {
    "execution": {
     "iopub.execute_input": "2021-11-22T02:02:39.603692Z",
     "iopub.status.busy": "2021-11-22T02:02:39.603043Z",
     "iopub.status.idle": "2021-11-22T02:02:39.611295Z",
     "shell.execute_reply": "2021-11-22T02:02:39.611777Z",
     "shell.execute_reply.started": "2021-11-20T15:21:46.892749Z"
    },
    "papermill": {
     "duration": 0.027616,
     "end_time": "2021-11-22T02:02:39.611990",
     "exception": false,
     "start_time": "2021-11-22T02:02:39.584374",
     "status": "completed"
    },
    "tags": []
   },
   "outputs": [
    {
     "name": "stdout",
     "output_type": "stream",
     "text": [
      "Model: \"sequential\"\n",
      "_________________________________________________________________\n",
      "Layer (type)                 Output Shape              Param #   \n",
      "=================================================================\n",
      "conv2d (Conv2D)              (None, 28, 28, 64)        3200      \n",
      "_________________________________________________________________\n",
      "conv2d_1 (Conv2D)            (None, 28, 28, 128)       73856     \n",
      "_________________________________________________________________\n",
      "conv2d_2 (Conv2D)            (None, 28, 28, 256)       295168    \n",
      "_________________________________________________________________\n",
      "flatten (Flatten)            (None, 200704)            0         \n",
      "_________________________________________________________________\n",
      "dense (Dense)                (None, 150)               30105750  \n",
      "_________________________________________________________________\n",
      "dense_1 (Dense)              (None, 100)               15100     \n",
      "_________________________________________________________________\n",
      "dense_2 (Dense)              (None, 50)                5050      \n",
      "_________________________________________________________________\n",
      "dropout (Dropout)            (None, 50)                0         \n",
      "_________________________________________________________________\n",
      "dense_3 (Dense)              (None, 10)                510       \n",
      "=================================================================\n",
      "Total params: 30,498,634\n",
      "Trainable params: 30,498,634\n",
      "Non-trainable params: 0\n",
      "_________________________________________________________________\n"
     ]
    }
   ],
   "source": [
    "model.summary()"
   ]
  },
  {
   "cell_type": "code",
   "execution_count": 15,
   "id": "9248ce1f",
   "metadata": {
    "execution": {
     "iopub.execute_input": "2021-11-22T02:02:39.648748Z",
     "iopub.status.busy": "2021-11-22T02:02:39.648080Z",
     "iopub.status.idle": "2021-11-22T02:02:39.653495Z",
     "shell.execute_reply": "2021-11-22T02:02:39.652949Z",
     "shell.execute_reply.started": "2021-11-20T15:21:46.911534Z"
    },
    "papermill": {
     "duration": 0.025095,
     "end_time": "2021-11-22T02:02:39.653643",
     "exception": false,
     "start_time": "2021-11-22T02:02:39.628548",
     "status": "completed"
    },
    "tags": []
   },
   "outputs": [
    {
     "name": "stdout",
     "output_type": "stream",
     "text": [
      "4\n",
      "1\n",
      "4\n",
      "1\n"
     ]
    }
   ],
   "source": [
    "print(X_train.ndim)\n",
    "print(y_train.ndim)\n",
    "print(X_test.ndim)\n",
    "print(y_test.ndim)"
   ]
  },
  {
   "cell_type": "code",
   "execution_count": 16,
   "id": "69dd2629",
   "metadata": {
    "execution": {
     "iopub.execute_input": "2021-11-22T02:02:39.693217Z",
     "iopub.status.busy": "2021-11-22T02:02:39.692292Z",
     "iopub.status.idle": "2021-11-22T04:32:40.393763Z",
     "shell.execute_reply": "2021-11-22T04:32:40.394459Z",
     "shell.execute_reply.started": "2021-11-20T15:21:46.918875Z"
    },
    "papermill": {
     "duration": 9000.723837,
     "end_time": "2021-11-22T04:32:40.394687",
     "exception": false,
     "start_time": "2021-11-22T02:02:39.670850",
     "status": "completed"
    },
    "tags": []
   },
   "outputs": [
    {
     "name": "stdout",
     "output_type": "stream",
     "text": [
      "Epoch 1/10\n"
     ]
    },
    {
     "name": "stderr",
     "output_type": "stream",
     "text": [
      "2021-11-22 02:02:39.768483: I tensorflow/compiler/mlir/mlir_graph_optimization_pass.cc:185] None of the MLIR Optimization Passes are enabled (registered 2)\n"
     ]
    },
    {
     "name": "stdout",
     "output_type": "stream",
     "text": [
      "540/540 [==============================] - 907s 2s/step - loss: 1.1431 - accuracy: 0.7827 - val_loss: 0.3277 - val_accuracy: 0.8833\n",
      "Epoch 2/10\n",
      "540/540 [==============================] - 897s 2s/step - loss: 0.3815 - accuracy: 0.8720 - val_loss: 0.3119 - val_accuracy: 0.8890\n",
      "Epoch 3/10\n",
      "540/540 [==============================] - 899s 2s/step - loss: 0.3156 - accuracy: 0.8916 - val_loss: 0.2895 - val_accuracy: 0.8960\n",
      "Epoch 4/10\n",
      "540/540 [==============================] - 899s 2s/step - loss: 0.2669 - accuracy: 0.9053 - val_loss: 0.2938 - val_accuracy: 0.9047\n",
      "Epoch 5/10\n",
      "540/540 [==============================] - 903s 2s/step - loss: 0.2413 - accuracy: 0.9142 - val_loss: 0.3085 - val_accuracy: 0.9008\n",
      "Epoch 6/10\n",
      "540/540 [==============================] - 900s 2s/step - loss: 0.2077 - accuracy: 0.9255 - val_loss: 0.3202 - val_accuracy: 0.9030\n",
      "Epoch 7/10\n",
      "540/540 [==============================] - 899s 2s/step - loss: 0.1874 - accuracy: 0.9331 - val_loss: 0.3710 - val_accuracy: 0.8997\n",
      "Epoch 8/10\n",
      "540/540 [==============================] - 897s 2s/step - loss: 0.1635 - accuracy: 0.9414 - val_loss: 0.3640 - val_accuracy: 0.9083\n",
      "Epoch 9/10\n",
      "540/540 [==============================] - 900s 2s/step - loss: 0.1527 - accuracy: 0.9450 - val_loss: 0.3898 - val_accuracy: 0.9072\n",
      "Epoch 10/10\n",
      "540/540 [==============================] - 899s 2s/step - loss: 0.1324 - accuracy: 0.9536 - val_loss: 0.4723 - val_accuracy: 0.9043\n"
     ]
    }
   ],
   "source": [
    "history = model.fit(X_train, y_train, batch_size = 100, epochs = 10, validation_data = (X_test, y_test))"
   ]
  },
  {
   "cell_type": "markdown",
   "id": "eafa0a5c",
   "metadata": {
    "papermill": {
     "duration": 1.278948,
     "end_time": "2021-11-22T04:32:42.920399",
     "exception": false,
     "start_time": "2021-11-22T04:32:41.641451",
     "status": "completed"
    },
    "tags": []
   },
   "source": [
    "## Output"
   ]
  },
  {
   "cell_type": "code",
   "execution_count": 17,
   "id": "e867605a",
   "metadata": {
    "execution": {
     "iopub.execute_input": "2021-11-22T04:32:45.539801Z",
     "iopub.status.busy": "2021-11-22T04:32:45.539131Z",
     "iopub.status.idle": "2021-11-22T04:33:34.651653Z",
     "shell.execute_reply": "2021-11-22T04:33:34.652142Z",
     "shell.execute_reply.started": "2021-11-20T17:50:24.882636Z"
    },
    "papermill": {
     "duration": 50.480197,
     "end_time": "2021-11-22T04:33:34.652307",
     "exception": false,
     "start_time": "2021-11-22T04:32:44.172110",
     "status": "completed"
    },
    "tags": []
   },
   "outputs": [
    {
     "name": "stdout",
     "output_type": "stream",
     "text": [
      "(10000,)\n"
     ]
    }
   ],
   "source": [
    "test_modified = test_df.iloc[:,1:785].to_numpy().reshape(len(test_df), 28, 28, 1)\n",
    "predictions = model.predict(test_modified).argmax(axis = 1)\n",
    "\n",
    "print(predictions.shape)"
   ]
  },
  {
   "cell_type": "code",
   "execution_count": 18,
   "id": "b4a5e0f9",
   "metadata": {
    "execution": {
     "iopub.execute_input": "2021-11-22T04:33:37.195294Z",
     "iopub.status.busy": "2021-11-22T04:33:37.194601Z",
     "iopub.status.idle": "2021-11-22T04:33:37.215788Z",
     "shell.execute_reply": "2021-11-22T04:33:37.215284Z",
     "shell.execute_reply.started": "2021-11-20T17:51:13.541354Z"
    },
    "papermill": {
     "duration": 1.317641,
     "end_time": "2021-11-22T04:33:37.215925",
     "exception": false,
     "start_time": "2021-11-22T04:33:35.898284",
     "status": "completed"
    },
    "tags": []
   },
   "outputs": [
    {
     "name": "stdout",
     "output_type": "stream",
     "text": [
      "Your submission was successfully saved!\n"
     ]
    }
   ],
   "source": [
    "output = pd.DataFrame({'id': test_df['id'], 'label': predictions})\n",
    "output.to_csv('submission.csv', index = False)\n",
    "print(\"Your submission was successfully saved!\")"
   ]
  }
 ],
 "metadata": {
  "kernelspec": {
   "display_name": "Python 3",
   "language": "python",
   "name": "python3"
  },
  "language_info": {
   "codemirror_mode": {
    "name": "ipython",
    "version": 3
   },
   "file_extension": ".py",
   "mimetype": "text/x-python",
   "name": "python",
   "nbconvert_exporter": "python",
   "pygments_lexer": "ipython3",
   "version": "3.7.10"
  },
  "papermill": {
   "default_parameters": {},
   "duration": 9090.080164,
   "end_time": "2021-11-22T04:33:42.043398",
   "environment_variables": {},
   "exception": null,
   "input_path": "__notebook__.ipynb",
   "output_path": "__notebook__.ipynb",
   "parameters": {},
   "start_time": "2021-11-22T02:02:11.963234",
   "version": "2.3.3"
  }
 },
 "nbformat": 4,
 "nbformat_minor": 5
}
